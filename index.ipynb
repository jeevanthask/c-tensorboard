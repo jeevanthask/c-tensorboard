{
 "cells": [
  {
   "cell_type": "code",
   "execution_count": 1,
   "id": "831c5225",
   "metadata": {},
   "outputs": [],
   "source": [
    "import tensorflow as tf\n",
    "from tensorflow.keras.models import Sequential\n",
    "from tensorflow.keras.layers import Dense,Dropout,Activation,Flatten,Conv2D,MaxPooling2D\n",
    "import pickle\n",
    "import numpy as np\n",
    "\n",
    "X = pickle.load(open(\"X.pickle\",\"rb\"))\n",
    "y = pickle.load(open(\"y.pickle\",\"rb\"))\n",
    "\n",
    "X = X/255.0\n",
    "\n",
    "model = Sequential()"
   ]
  },
  {
   "cell_type": "code",
   "execution_count": 2,
   "id": "86019613",
   "metadata": {},
   "outputs": [],
   "source": [
    "model.add(Conv2D(64, (3, 3), input_shape=X.shape[1:]))\n",
    "model.add(Activation('relu'))\n",
    "model.add(MaxPooling2D(pool_size=(2, 2)))"
   ]
  },
  {
   "cell_type": "code",
   "execution_count": 3,
   "id": "b8cdf585",
   "metadata": {},
   "outputs": [],
   "source": [
    "model.add(Conv2D(64, (3, 3)))\n",
    "model.add(Activation('relu'))\n",
    "model.add(MaxPooling2D(pool_size=(2, 2)))"
   ]
  },
  {
   "cell_type": "code",
   "execution_count": 4,
   "id": "2e411287",
   "metadata": {},
   "outputs": [],
   "source": [
    "model.add(Flatten())  # this converts our 3D feature maps to 1D feature vectors\n",
    "\n",
    "model.add(Dense(64))"
   ]
  },
  {
   "cell_type": "code",
   "execution_count": 5,
   "id": "bdda15eb",
   "metadata": {},
   "outputs": [],
   "source": [
    "model.add(Dense(1))\n",
    "model.add(Activation('sigmoid'))"
   ]
  },
  {
   "cell_type": "code",
   "execution_count": 6,
   "id": "ba47396f",
   "metadata": {},
   "outputs": [],
   "source": [
    "model.compile(loss='binary_crossentropy',\n",
    "              optimizer='adam',\n",
    "              metrics=['accuracy'])"
   ]
  },
  {
   "cell_type": "code",
   "execution_count": 7,
   "id": "dcdde7fd",
   "metadata": {},
   "outputs": [
    {
     "name": "stdout",
     "output_type": "stream",
     "text": [
      "Epoch 1/10\n",
      "702/702 [==============================] - 112s 159ms/step - loss: 0.6178 - accuracy: 0.6552 - val_loss: 0.5876 - val_accuracy: 0.6882\n",
      "Epoch 2/10\n",
      "702/702 [==============================] - 96s 137ms/step - loss: 0.5237 - accuracy: 0.7400 - val_loss: 0.4888 - val_accuracy: 0.7760\n",
      "Epoch 3/10\n",
      "702/702 [==============================] - 96s 136ms/step - loss: 0.4848 - accuracy: 0.7690 - val_loss: 0.4866 - val_accuracy: 0.7699\n",
      "Epoch 4/10\n",
      "702/702 [==============================] - 97s 138ms/step - loss: 0.4499 - accuracy: 0.7905 - val_loss: 0.4600 - val_accuracy: 0.7888\n",
      "Epoch 5/10\n",
      "702/702 [==============================] - 96s 136ms/step - loss: 0.4220 - accuracy: 0.8064 - val_loss: 0.4686 - val_accuracy: 0.7876\n",
      "Epoch 6/10\n",
      "702/702 [==============================] - 98s 139ms/step - loss: 0.4011 - accuracy: 0.8180 - val_loss: 0.4797 - val_accuracy: 0.7896\n",
      "Epoch 7/10\n",
      "702/702 [==============================] - 95s 135ms/step - loss: 0.3745 - accuracy: 0.8326 - val_loss: 0.4479 - val_accuracy: 0.7960\n",
      "Epoch 8/10\n",
      "702/702 [==============================] - 93s 133ms/step - loss: 0.3557 - accuracy: 0.8436 - val_loss: 0.4356 - val_accuracy: 0.8104\n",
      "Epoch 9/10\n",
      "702/702 [==============================] - 91s 130ms/step - loss: 0.3352 - accuracy: 0.8527 - val_loss: 0.4905 - val_accuracy: 0.7828\n",
      "Epoch 10/10\n",
      "702/702 [==============================] - 90s 129ms/step - loss: 0.3212 - accuracy: 0.8586 - val_loss: 0.4604 - val_accuracy: 0.7976\n"
     ]
    },
    {
     "data": {
      "text/plain": [
       "<tensorflow.python.keras.callbacks.History at 0x193c06d4e50>"
      ]
     },
     "execution_count": 7,
     "metadata": {},
     "output_type": "execute_result"
    }
   ],
   "source": [
    "X = np.array(X)\n",
    "# training_labels = np.array(training_labels)\n",
    "y = np.array(y)\n",
    "# testing_labels = np.array(testing_labels)\n",
    "model.fit(X, y, batch_size=32, epochs=3, validation_split=0.1)"
   ]
  },
  {
   "cell_type": "code",
   "execution_count": null,
   "id": "614eafce",
   "metadata": {},
   "outputs": [],
   "source": []
  }
 ],
 "metadata": {
  "kernelspec": {
   "display_name": "Python 3",
   "language": "python",
   "name": "python3"
  },
  "language_info": {
   "codemirror_mode": {
    "name": "ipython",
    "version": 3
   },
   "file_extension": ".py",
   "mimetype": "text/x-python",
   "name": "python",
   "nbconvert_exporter": "python",
   "pygments_lexer": "ipython3",
   "version": "3.8.11"
  }
 },
 "nbformat": 4,
 "nbformat_minor": 5
}
